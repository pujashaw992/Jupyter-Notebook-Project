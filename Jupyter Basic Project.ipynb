{
 "cells": [
  {
   "cell_type": "code",
   "execution_count": 1,
   "id": "f4ca02dd",
   "metadata": {},
   "outputs": [],
   "source": [
    "import numpy as np\n",
    "import pandas as pd"
   ]
  },
  {
   "cell_type": "code",
   "execution_count": 3,
   "id": "5d0e4e52",
   "metadata": {},
   "outputs": [],
   "source": [
    "ps_excel = pd.read_excel(\"C:/Users/Puja Shaw/Downloads/Book1.xlsx\")"
   ]
  },
  {
   "cell_type": "code",
   "execution_count": 5,
   "id": "a6a74cbb",
   "metadata": {},
   "outputs": [
    {
     "data": {
      "text/html": [
       "<div>\n",
       "<style scoped>\n",
       "    .dataframe tbody tr th:only-of-type {\n",
       "        vertical-align: middle;\n",
       "    }\n",
       "\n",
       "    .dataframe tbody tr th {\n",
       "        vertical-align: top;\n",
       "    }\n",
       "\n",
       "    .dataframe thead th {\n",
       "        text-align: right;\n",
       "    }\n",
       "</style>\n",
       "<table border=\"1\" class=\"dataframe\">\n",
       "  <thead>\n",
       "    <tr style=\"text-align: right;\">\n",
       "      <th></th>\n",
       "      <th>ID</th>\n",
       "      <th>Name</th>\n",
       "      <th>Salary</th>\n",
       "      <th>Designation</th>\n",
       "      <th>Age</th>\n",
       "    </tr>\n",
       "  </thead>\n",
       "  <tbody>\n",
       "    <tr>\n",
       "      <th>0</th>\n",
       "      <td>4455</td>\n",
       "      <td>Bikash</td>\n",
       "      <td>1000</td>\n",
       "      <td>clerk</td>\n",
       "      <td>18</td>\n",
       "    </tr>\n",
       "    <tr>\n",
       "      <th>1</th>\n",
       "      <td>7788</td>\n",
       "      <td>Raju</td>\n",
       "      <td>3000</td>\n",
       "      <td>pa</td>\n",
       "      <td>20</td>\n",
       "    </tr>\n",
       "    <tr>\n",
       "      <th>2</th>\n",
       "      <td>3322</td>\n",
       "      <td>Sajjal</td>\n",
       "      <td>4000</td>\n",
       "      <td>pe</td>\n",
       "      <td>19</td>\n",
       "    </tr>\n",
       "    <tr>\n",
       "      <th>3</th>\n",
       "      <td>5454</td>\n",
       "      <td>Deepti</td>\n",
       "      <td>7000</td>\n",
       "      <td>spe</td>\n",
       "      <td>24</td>\n",
       "    </tr>\n",
       "    <tr>\n",
       "      <th>4</th>\n",
       "      <td>1234</td>\n",
       "      <td>Gulmohar</td>\n",
       "      <td>9000</td>\n",
       "      <td>qa</td>\n",
       "      <td>28</td>\n",
       "    </tr>\n",
       "    <tr>\n",
       "      <th>5</th>\n",
       "      <td>6687</td>\n",
       "      <td>Britania</td>\n",
       "      <td>6000</td>\n",
       "      <td>sa</td>\n",
       "      <td>25</td>\n",
       "    </tr>\n",
       "  </tbody>\n",
       "</table>\n",
       "</div>"
      ],
      "text/plain": [
       "     ID      Name  Salary Designation  Age\n",
       "0  4455    Bikash    1000       clerk   18\n",
       "1  7788      Raju    3000          pa   20\n",
       "2  3322    Sajjal    4000          pe   19\n",
       "3  5454    Deepti    7000         spe   24\n",
       "4  1234  Gulmohar    9000          qa   28\n",
       "5  6687  Britania    6000          sa   25"
      ]
     },
     "execution_count": 5,
     "metadata": {},
     "output_type": "execute_result"
    }
   ],
   "source": [
    "ps_excel.head(6)"
   ]
  },
  {
   "cell_type": "code",
   "execution_count": 7,
   "id": "712d1eb2",
   "metadata": {},
   "outputs": [
    {
     "data": {
      "text/plain": [
       "22.333333333333332"
      ]
     },
     "execution_count": 7,
     "metadata": {},
     "output_type": "execute_result"
    }
   ],
   "source": [
    "np.mean(ps_excel.Age)"
   ]
  },
  {
   "cell_type": "code",
   "execution_count": 8,
   "id": "011781f6",
   "metadata": {},
   "outputs": [
    {
     "data": {
      "text/plain": [
       "5000.0"
      ]
     },
     "execution_count": 8,
     "metadata": {},
     "output_type": "execute_result"
    }
   ],
   "source": [
    "np.mean(ps_excel.Salary)"
   ]
  },
  {
   "cell_type": "code",
   "execution_count": 9,
   "id": "6154c73e",
   "metadata": {},
   "outputs": [
    {
     "data": {
      "text/plain": [
       "18"
      ]
     },
     "execution_count": 9,
     "metadata": {},
     "output_type": "execute_result"
    }
   ],
   "source": [
    "np.min(ps_excel.Age)"
   ]
  },
  {
   "cell_type": "code",
   "execution_count": 10,
   "id": "12a7b585",
   "metadata": {},
   "outputs": [
    {
     "data": {
      "text/plain": [
       "28"
      ]
     },
     "execution_count": 10,
     "metadata": {},
     "output_type": "execute_result"
    }
   ],
   "source": [
    "np.max(ps_excel.Age)"
   ]
  },
  {
   "cell_type": "code",
   "execution_count": 11,
   "id": "0f636fdb",
   "metadata": {},
   "outputs": [
    {
     "data": {
      "text/plain": [
       "12.888888888888888"
      ]
     },
     "execution_count": 11,
     "metadata": {},
     "output_type": "execute_result"
    }
   ],
   "source": [
    "np.var(ps_excel.Age)"
   ]
  },
  {
   "cell_type": "code",
   "execution_count": 13,
   "id": "150a7688",
   "metadata": {},
   "outputs": [
    {
     "name": "stdout",
     "output_type": "stream",
     "text": [
      "10\n"
     ]
    }
   ],
   "source": [
    "range_Age=np.max(ps_excel.Age)-np.min(ps_excel.Age)\n",
    "print(range_Age)"
   ]
  },
  {
   "cell_type": "code",
   "execution_count": 14,
   "id": "8d62986c",
   "metadata": {},
   "outputs": [
    {
     "data": {
      "text/plain": [
       "3.5901098714230026"
      ]
     },
     "execution_count": 14,
     "metadata": {},
     "output_type": "execute_result"
    }
   ],
   "source": [
    "np.std(ps_excel.Age)"
   ]
  },
  {
   "cell_type": "code",
   "execution_count": 17,
   "id": "3b55c720",
   "metadata": {},
   "outputs": [
    {
     "data": {
      "text/plain": [
       "3.5901098714230026"
      ]
     },
     "execution_count": 17,
     "metadata": {},
     "output_type": "execute_result"
    }
   ],
   "source": [
    "np.sqrt(np.var(ps_excel.Age))"
   ]
  },
  {
   "cell_type": "code",
   "execution_count": 18,
   "id": "faa66ca9",
   "metadata": {},
   "outputs": [
    {
     "data": {
      "text/html": [
       "<div>\n",
       "<style scoped>\n",
       "    .dataframe tbody tr th:only-of-type {\n",
       "        vertical-align: middle;\n",
       "    }\n",
       "\n",
       "    .dataframe tbody tr th {\n",
       "        vertical-align: top;\n",
       "    }\n",
       "\n",
       "    .dataframe thead th {\n",
       "        text-align: right;\n",
       "    }\n",
       "</style>\n",
       "<table border=\"1\" class=\"dataframe\">\n",
       "  <thead>\n",
       "    <tr style=\"text-align: right;\">\n",
       "      <th></th>\n",
       "      <th>ID</th>\n",
       "      <th>Salary</th>\n",
       "      <th>Age</th>\n",
       "    </tr>\n",
       "  </thead>\n",
       "  <tbody>\n",
       "    <tr>\n",
       "      <th>count</th>\n",
       "      <td>6.000000</td>\n",
       "      <td>6.000000</td>\n",
       "      <td>6.000000</td>\n",
       "    </tr>\n",
       "    <tr>\n",
       "      <th>mean</th>\n",
       "      <td>4823.333333</td>\n",
       "      <td>5000.000000</td>\n",
       "      <td>22.333333</td>\n",
       "    </tr>\n",
       "    <tr>\n",
       "      <th>std</th>\n",
       "      <td>2363.608569</td>\n",
       "      <td>2898.275349</td>\n",
       "      <td>3.932768</td>\n",
       "    </tr>\n",
       "    <tr>\n",
       "      <th>min</th>\n",
       "      <td>1234.000000</td>\n",
       "      <td>1000.000000</td>\n",
       "      <td>18.000000</td>\n",
       "    </tr>\n",
       "    <tr>\n",
       "      <th>25%</th>\n",
       "      <td>3605.250000</td>\n",
       "      <td>3250.000000</td>\n",
       "      <td>19.250000</td>\n",
       "    </tr>\n",
       "    <tr>\n",
       "      <th>50%</th>\n",
       "      <td>4954.500000</td>\n",
       "      <td>5000.000000</td>\n",
       "      <td>22.000000</td>\n",
       "    </tr>\n",
       "    <tr>\n",
       "      <th>75%</th>\n",
       "      <td>6378.750000</td>\n",
       "      <td>6750.000000</td>\n",
       "      <td>24.750000</td>\n",
       "    </tr>\n",
       "    <tr>\n",
       "      <th>max</th>\n",
       "      <td>7788.000000</td>\n",
       "      <td>9000.000000</td>\n",
       "      <td>28.000000</td>\n",
       "    </tr>\n",
       "  </tbody>\n",
       "</table>\n",
       "</div>"
      ],
      "text/plain": [
       "                ID       Salary        Age\n",
       "count     6.000000     6.000000   6.000000\n",
       "mean   4823.333333  5000.000000  22.333333\n",
       "std    2363.608569  2898.275349   3.932768\n",
       "min    1234.000000  1000.000000  18.000000\n",
       "25%    3605.250000  3250.000000  19.250000\n",
       "50%    4954.500000  5000.000000  22.000000\n",
       "75%    6378.750000  6750.000000  24.750000\n",
       "max    7788.000000  9000.000000  28.000000"
      ]
     },
     "execution_count": 18,
     "metadata": {},
     "output_type": "execute_result"
    }
   ],
   "source": [
    "ps_excel.describe()"
   ]
  },
  {
   "cell_type": "code",
   "execution_count": null,
   "id": "dcd9d65a",
   "metadata": {},
   "outputs": [],
   "source": []
  }
 ],
 "metadata": {
  "kernelspec": {
   "display_name": "Python 3 (ipykernel)",
   "language": "python",
   "name": "python3"
  },
  "language_info": {
   "codemirror_mode": {
    "name": "ipython",
    "version": 3
   },
   "file_extension": ".py",
   "mimetype": "text/x-python",
   "name": "python",
   "nbconvert_exporter": "python",
   "pygments_lexer": "ipython3",
   "version": "3.9.12"
  }
 },
 "nbformat": 4,
 "nbformat_minor": 5
}
